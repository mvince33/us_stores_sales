{
 "cells": [
  {
   "cell_type": "markdown",
   "id": "aec47871",
   "metadata": {},
   "source": [
    "# Imports"
   ]
  },
  {
   "cell_type": "code",
   "execution_count": 1,
   "id": "d7c6677e",
   "metadata": {},
   "outputs": [],
   "source": [
    "# Imports\n",
    "import numpy as np\n",
    "import pandas as pd\n",
    "import matplotlib.pyplot as plt\n",
    "import seaborn as sns"
   ]
  },
  {
   "cell_type": "markdown",
   "id": "b3d38239",
   "metadata": {},
   "source": [
    "# Load the Data"
   ]
  },
  {
   "cell_type": "code",
   "execution_count": 2,
   "id": "9e4165e7",
   "metadata": {},
   "outputs": [
    {
     "data": {
      "text/html": [
       "<div>\n",
       "<style scoped>\n",
       "    .dataframe tbody tr th:only-of-type {\n",
       "        vertical-align: middle;\n",
       "    }\n",
       "\n",
       "    .dataframe tbody tr th {\n",
       "        vertical-align: top;\n",
       "    }\n",
       "\n",
       "    .dataframe thead th {\n",
       "        text-align: right;\n",
       "    }\n",
       "</style>\n",
       "<table border=\"1\" class=\"dataframe\">\n",
       "  <thead>\n",
       "    <tr style=\"text-align: right;\">\n",
       "      <th></th>\n",
       "      <th>Area Code</th>\n",
       "      <th>State</th>\n",
       "      <th>Market</th>\n",
       "      <th>Market Size</th>\n",
       "      <th>Profit</th>\n",
       "      <th>Margin</th>\n",
       "      <th>Sales</th>\n",
       "      <th>COGS</th>\n",
       "      <th>Total Expenses</th>\n",
       "      <th>Marketing</th>\n",
       "      <th>Inventory</th>\n",
       "      <th>Budget Profit</th>\n",
       "      <th>Budget COGS</th>\n",
       "      <th>Budget Margin</th>\n",
       "      <th>Budget Sales</th>\n",
       "      <th>ProductId</th>\n",
       "      <th>Date</th>\n",
       "      <th>Product Type</th>\n",
       "      <th>Product</th>\n",
       "      <th>Type</th>\n",
       "    </tr>\n",
       "  </thead>\n",
       "  <tbody>\n",
       "    <tr>\n",
       "      <th>0</th>\n",
       "      <td>203</td>\n",
       "      <td>Connecticut</td>\n",
       "      <td>East</td>\n",
       "      <td>Small Market</td>\n",
       "      <td>107.0</td>\n",
       "      <td>176.0</td>\n",
       "      <td>292.0</td>\n",
       "      <td>116.0</td>\n",
       "      <td>69.0</td>\n",
       "      <td>38.0</td>\n",
       "      <td>962.0</td>\n",
       "      <td>110.0</td>\n",
       "      <td>110.0</td>\n",
       "      <td>160.0</td>\n",
       "      <td>270.0</td>\n",
       "      <td>2</td>\n",
       "      <td>04/01/10 00:00:00</td>\n",
       "      <td>Coffee</td>\n",
       "      <td>Columbian</td>\n",
       "      <td>Regular</td>\n",
       "    </tr>\n",
       "    <tr>\n",
       "      <th>1</th>\n",
       "      <td>203</td>\n",
       "      <td>Connecticut</td>\n",
       "      <td>East</td>\n",
       "      <td>Small Market</td>\n",
       "      <td>75.0</td>\n",
       "      <td>135.0</td>\n",
       "      <td>225.0</td>\n",
       "      <td>90.0</td>\n",
       "      <td>60.0</td>\n",
       "      <td>29.0</td>\n",
       "      <td>1148.0</td>\n",
       "      <td>90.0</td>\n",
       "      <td>80.0</td>\n",
       "      <td>130.0</td>\n",
       "      <td>210.0</td>\n",
       "      <td>2</td>\n",
       "      <td>07/01/10 00:00:00</td>\n",
       "      <td>Coffee</td>\n",
       "      <td>Columbian</td>\n",
       "      <td>Regular</td>\n",
       "    </tr>\n",
       "    <tr>\n",
       "      <th>2</th>\n",
       "      <td>203</td>\n",
       "      <td>Connecticut</td>\n",
       "      <td>East</td>\n",
       "      <td>Small Market</td>\n",
       "      <td>122.0</td>\n",
       "      <td>195.0</td>\n",
       "      <td>325.0</td>\n",
       "      <td>130.0</td>\n",
       "      <td>73.0</td>\n",
       "      <td>42.0</td>\n",
       "      <td>1134.0</td>\n",
       "      <td>130.0</td>\n",
       "      <td>110.0</td>\n",
       "      <td>180.0</td>\n",
       "      <td>290.0</td>\n",
       "      <td>2</td>\n",
       "      <td>11/01/10 00:00:00</td>\n",
       "      <td>Coffee</td>\n",
       "      <td>Columbian</td>\n",
       "      <td>Regular</td>\n",
       "    </tr>\n",
       "    <tr>\n",
       "      <th>3</th>\n",
       "      <td>203</td>\n",
       "      <td>Connecticut</td>\n",
       "      <td>East</td>\n",
       "      <td>Small Market</td>\n",
       "      <td>105.0</td>\n",
       "      <td>174.0</td>\n",
       "      <td>289.0</td>\n",
       "      <td>115.0</td>\n",
       "      <td>69.0</td>\n",
       "      <td>37.0</td>\n",
       "      <td>1166.0</td>\n",
       "      <td>110.0</td>\n",
       "      <td>100.0</td>\n",
       "      <td>160.0</td>\n",
       "      <td>260.0</td>\n",
       "      <td>2</td>\n",
       "      <td>12/01/10 00:00:00</td>\n",
       "      <td>Coffee</td>\n",
       "      <td>Columbian</td>\n",
       "      <td>Regular</td>\n",
       "    </tr>\n",
       "    <tr>\n",
       "      <th>4</th>\n",
       "      <td>203</td>\n",
       "      <td>Connecticut</td>\n",
       "      <td>East</td>\n",
       "      <td>Small Market</td>\n",
       "      <td>104.0</td>\n",
       "      <td>135.0</td>\n",
       "      <td>223.0</td>\n",
       "      <td>90.0</td>\n",
       "      <td>56.0</td>\n",
       "      <td>29.0</td>\n",
       "      <td>1148.0</td>\n",
       "      <td>90.0</td>\n",
       "      <td>80.0</td>\n",
       "      <td>130.0</td>\n",
       "      <td>210.0</td>\n",
       "      <td>2</td>\n",
       "      <td>07/01/11 00:00:00</td>\n",
       "      <td>Coffee</td>\n",
       "      <td>Columbian</td>\n",
       "      <td>Regular</td>\n",
       "    </tr>\n",
       "  </tbody>\n",
       "</table>\n",
       "</div>"
      ],
      "text/plain": [
       "   Area Code        State Market   Market Size  Profit  Margin  Sales   COGS  \\\n",
       "0        203  Connecticut   East  Small Market   107.0   176.0  292.0  116.0   \n",
       "1        203  Connecticut   East  Small Market    75.0   135.0  225.0   90.0   \n",
       "2        203  Connecticut   East  Small Market   122.0   195.0  325.0  130.0   \n",
       "3        203  Connecticut   East  Small Market   105.0   174.0  289.0  115.0   \n",
       "4        203  Connecticut   East  Small Market   104.0   135.0  223.0   90.0   \n",
       "\n",
       "   Total Expenses  Marketing  Inventory  Budget Profit  Budget COGS  \\\n",
       "0            69.0       38.0      962.0          110.0        110.0   \n",
       "1            60.0       29.0     1148.0           90.0         80.0   \n",
       "2            73.0       42.0     1134.0          130.0        110.0   \n",
       "3            69.0       37.0     1166.0          110.0        100.0   \n",
       "4            56.0       29.0     1148.0           90.0         80.0   \n",
       "\n",
       "   Budget Margin  Budget Sales  ProductId               Date Product Type  \\\n",
       "0          160.0         270.0          2  04/01/10 00:00:00       Coffee   \n",
       "1          130.0         210.0          2  07/01/10 00:00:00       Coffee   \n",
       "2          180.0         290.0          2  11/01/10 00:00:00       Coffee   \n",
       "3          160.0         260.0          2  12/01/10 00:00:00       Coffee   \n",
       "4          130.0         210.0          2  07/01/11 00:00:00       Coffee   \n",
       "\n",
       "     Product     Type  \n",
       "0  Columbian  Regular  \n",
       "1  Columbian  Regular  \n",
       "2  Columbian  Regular  \n",
       "3  Columbian  Regular  \n",
       "4  Columbian  Regular  "
      ]
     },
     "execution_count": 2,
     "metadata": {},
     "output_type": "execute_result"
    }
   ],
   "source": [
    "# Load the data\n",
    "df = pd.read_csv('data/sales.csv')\n",
    "df.head()"
   ]
  },
  {
   "cell_type": "code",
   "execution_count": 3,
   "id": "37c54750",
   "metadata": {},
   "outputs": [
    {
     "name": "stdout",
     "output_type": "stream",
     "text": [
      "<class 'pandas.core.frame.DataFrame'>\n",
      "RangeIndex: 4248 entries, 0 to 4247\n",
      "Data columns (total 20 columns):\n",
      " #   Column          Non-Null Count  Dtype  \n",
      "---  ------          --------------  -----  \n",
      " 0   Area Code       4248 non-null   int64  \n",
      " 1   State           4248 non-null   object \n",
      " 2   Market          4248 non-null   object \n",
      " 3   Market Size     4248 non-null   object \n",
      " 4   Profit          4248 non-null   float64\n",
      " 5   Margin          4248 non-null   float64\n",
      " 6   Sales           4248 non-null   float64\n",
      " 7   COGS            4248 non-null   float64\n",
      " 8   Total Expenses  4248 non-null   float64\n",
      " 9   Marketing       4248 non-null   float64\n",
      " 10  Inventory       4248 non-null   float64\n",
      " 11  Budget Profit   4248 non-null   float64\n",
      " 12  Budget COGS     4248 non-null   float64\n",
      " 13  Budget Margin   4248 non-null   float64\n",
      " 14  Budget Sales    4248 non-null   float64\n",
      " 15  ProductId       4248 non-null   int64  \n",
      " 16  Date            4248 non-null   object \n",
      " 17  Product Type    4248 non-null   object \n",
      " 18  Product         4248 non-null   object \n",
      " 19  Type            4248 non-null   object \n",
      "dtypes: float64(11), int64(2), object(7)\n",
      "memory usage: 663.9+ KB\n"
     ]
    }
   ],
   "source": [
    "# Get more info on the data\n",
    "df.info()"
   ]
  },
  {
   "cell_type": "code",
   "execution_count": 4,
   "id": "2290f2fe",
   "metadata": {},
   "outputs": [
    {
     "data": {
      "text/plain": [
       "(4248, 20)"
      ]
     },
     "execution_count": 4,
     "metadata": {},
     "output_type": "execute_result"
    }
   ],
   "source": [
    "# Get the dimensions of the data frame\n",
    "df.shape"
   ]
  },
  {
   "cell_type": "markdown",
   "id": "95a8bbf6",
   "metadata": {},
   "source": [
    "# Data Cleaning"
   ]
  },
  {
   "cell_type": "code",
   "execution_count": 5,
   "id": "405cd649",
   "metadata": {},
   "outputs": [
    {
     "name": "stdout",
     "output_type": "stream",
     "text": [
      "There are 0 duplicates.\n"
     ]
    }
   ],
   "source": [
    "# Check for duplicates\n",
    "print('There are', df.duplicated().sum(), 'duplicates.')"
   ]
  },
  {
   "cell_type": "code",
   "execution_count": 6,
   "id": "6cc65f71",
   "metadata": {},
   "outputs": [
    {
     "name": "stdout",
     "output_type": "stream",
     "text": [
      "There are 0 missing values.\n"
     ]
    }
   ],
   "source": [
    "# Check for missing values\n",
    "print('There are', df.isna().sum().sum(), 'missing values.')"
   ]
  },
  {
   "cell_type": "code",
   "execution_count": 7,
   "id": "f20308fb",
   "metadata": {},
   "outputs": [
    {
     "name": "stdout",
     "output_type": "stream",
     "text": [
      "The labels for the State column.\n",
      "Utah             288\n",
      "California       288\n",
      "Colorado         264\n",
      "Oregon           264\n",
      "Nevada           264\n",
      "Washington       240\n",
      "Ohio             216\n",
      "Illinois         216\n",
      "Florida          216\n",
      "Wisconsin        216\n",
      "Missouri         216\n",
      "Iowa             216\n",
      "New York         192\n",
      "Louisiana        168\n",
      "Oklahoma         168\n",
      "Texas            168\n",
      "New Mexico       168\n",
      "New Hampshire    168\n",
      "Connecticut      168\n",
      "Massachusetts    144\n",
      "Name: State, dtype: int64\n",
      "\n",
      "The labels for the Market column.\n",
      "West       1344\n",
      "Central    1344\n",
      "East        888\n",
      "South       672\n",
      "Name: Market, dtype: int64\n",
      "\n",
      "The labels for the Market Size column.\n",
      "Small Market    2544\n",
      "Major Market    1704\n",
      "Name: Market Size, dtype: int64\n",
      "\n",
      "The labels for the Date column.\n",
      "04/01/10 00:00:00    177\n",
      "07/01/10 00:00:00    177\n",
      "06/01/11 00:00:00    177\n",
      "09/01/10 00:00:00    177\n",
      "03/01/10 00:00:00    177\n",
      "08/01/10 00:00:00    177\n",
      "05/01/10 00:00:00    177\n",
      "02/01/10 00:00:00    177\n",
      "12/01/11 00:00:00    177\n",
      "05/01/11 00:00:00    177\n",
      "04/01/11 00:00:00    177\n",
      "03/01/11 00:00:00    177\n",
      "02/01/11 00:00:00    177\n",
      "01/01/11 00:00:00    177\n",
      "10/01/10 00:00:00    177\n",
      "06/01/10 00:00:00    177\n",
      "11/01/11 00:00:00    177\n",
      "10/01/11 00:00:00    177\n",
      "09/01/11 00:00:00    177\n",
      "08/01/11 00:00:00    177\n",
      "07/01/11 00:00:00    177\n",
      "12/01/10 00:00:00    177\n",
      "11/01/10 00:00:00    177\n",
      "01/01/10 00:00:00    177\n",
      "Name: Date, dtype: int64\n",
      "\n",
      "The labels for the Product Type column.\n",
      "Espresso      1176\n",
      "Coffee        1056\n",
      "Herbal Tea    1056\n",
      "Tea            960\n",
      "Name: Product Type, dtype: int64\n",
      "\n",
      "The labels for the Product column.\n",
      "Columbian            480\n",
      "Caffe Mocha          480\n",
      "Lemon                480\n",
      "Decaf Espresso       408\n",
      "Darjeeling           384\n",
      "Decaf Irish Cream    384\n",
      "Chamomile            384\n",
      "Green Tea            288\n",
      "Earl Grey            288\n",
      "Caffe Latte          216\n",
      "Mint                 192\n",
      "Amaretto             192\n",
      "Regular Espresso      72\n",
      "Name: Product, dtype: int64\n",
      "\n",
      "The labels for the Type column.\n",
      "Regular    2400\n",
      "Decaf      1848\n",
      "Name: Type, dtype: int64\n",
      "\n"
     ]
    }
   ],
   "source": [
    "# Check the labels\n",
    "cat_cols = df.select_dtypes('object').columns\n",
    "\n",
    "for col in cat_cols:\n",
    "    print('The labels for the', col, 'column.')\n",
    "    print(df[col].value_counts())\n",
    "    print()"
   ]
  },
  {
   "cell_type": "markdown",
   "id": "1cc2fd21",
   "metadata": {},
   "source": [
    "# Data Visualizations"
   ]
  },
  {
   "cell_type": "code",
   "execution_count": 8,
   "id": "ae840160",
   "metadata": {},
   "outputs": [
    {
     "name": "stdout",
     "output_type": "stream",
     "text": [
      "<class 'pandas.core.frame.DataFrame'>\n",
      "RangeIndex: 4248 entries, 0 to 4247\n",
      "Data columns (total 20 columns):\n",
      " #   Column          Non-Null Count  Dtype  \n",
      "---  ------          --------------  -----  \n",
      " 0   Area Code       4248 non-null   int64  \n",
      " 1   State           4248 non-null   object \n",
      " 2   Market          4248 non-null   object \n",
      " 3   Market Size     4248 non-null   object \n",
      " 4   Profit          4248 non-null   float64\n",
      " 5   Margin          4248 non-null   float64\n",
      " 6   Sales           4248 non-null   float64\n",
      " 7   COGS            4248 non-null   float64\n",
      " 8   Total Expenses  4248 non-null   float64\n",
      " 9   Marketing       4248 non-null   float64\n",
      " 10  Inventory       4248 non-null   float64\n",
      " 11  Budget Profit   4248 non-null   float64\n",
      " 12  Budget COGS     4248 non-null   float64\n",
      " 13  Budget Margin   4248 non-null   float64\n",
      " 14  Budget Sales    4248 non-null   float64\n",
      " 15  ProductId       4248 non-null   int64  \n",
      " 16  Date            4248 non-null   object \n",
      " 17  Product Type    4248 non-null   object \n",
      " 18  Product         4248 non-null   object \n",
      " 19  Type            4248 non-null   object \n",
      "dtypes: float64(11), int64(2), object(7)\n",
      "memory usage: 663.9+ KB\n"
     ]
    }
   ],
   "source": [
    "df.info()"
   ]
  },
  {
   "cell_type": "code",
   "execution_count": 9,
   "id": "f94d4dae",
   "metadata": {},
   "outputs": [
    {
     "data": {
      "image/png": "[encoded data removed]",
      "text/plain": [
       "<Figure size 640x480 with 1 Axes>"
      ]
     },
     "metadata": {},
     "output_type": "display_data"
    }
   ],
   "source": [
    "# Barplot of Profit vs. Market\n",
    "sns.barplot(data = df, x = 'Market', y = 'Profit');"
   ]
  },
  {
   "cell_type": "code",
   "execution_count": 10,
   "id": "f5cc59b2",
   "metadata": {},
   "outputs": [
    {
     "data": {
      "image/png": "[encoded data removed]",
      "text/plain": [
       "<Figure size 640x480 with 1 Axes>"
      ]
     },
     "metadata": {},
     "output_type": "display_data"
    }
   ],
   "source": [
    "# Barplot of Profic vs. State\n",
    "sns.barplot(data = df, x = 'State', y = 'Profit');\n",
    "plt.xticks(rotation = 80);"
   ]
  },
  {
   "cell_type": "code",
   "execution_count": null,
   "id": "f7c949b1",
   "metadata": {},
   "outputs": [],
   "source": []
  }
 ],
 "metadata": {
  "kernelspec": {
   "display_name": "Python (dojo-env)",
   "language": "python",
   "name": "dojo-env"
  },
  "language_info": {
   "codemirror_mode": {
    "name": "ipython",
    "version": 3
   },
   "file_extension": ".py",
   "mimetype": "text/x-python",
   "name": "python",
   "nbconvert_exporter": "python",
   "pygments_lexer": "ipython3",
   "version": "3.8.13"
  },
  "toc": {
   "base_numbering": 1,
   "nav_menu": {},
   "number_sections": false,
   "sideBar": true,
   "skip_h1_title": false,
   "title_cell": "Table of Contents",
   "title_sidebar": "Contents",
   "toc_cell": false,
   "toc_position": {},
   "toc_section_display": true,
   "toc_window_display": false
  }
 },
 "nbformat": 4,
 "nbformat_minor": 5
}
